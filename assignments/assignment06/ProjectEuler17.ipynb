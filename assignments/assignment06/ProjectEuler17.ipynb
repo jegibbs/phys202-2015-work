{
 "cells": [
  {
   "cell_type": "markdown",
   "metadata": {
    "nbgrader": {}
   },
   "source": [
    "# Project Euler: Problem 17"
   ]
  },
  {
   "cell_type": "markdown",
   "metadata": {
    "nbgrader": {}
   },
   "source": [
    "https://projecteuler.net/problem=17\n",
    "\n",
    "If the numbers 1 to 5 are written out in words: one, two, three, four, five, then there are 3 + 3 + 5 + 4 + 4 = 19 letters used in total.\n",
    "\n",
    "If all the numbers from 1 to 1000 (one thousand) inclusive were written out in words, how many letters would be used?\n",
    "\n",
    "\n",
    "NOTE: Do not count spaces or hyphens. For example, 342 (three hundred and forty-two) contains 23 letters and 115 (one hundred and fifteen) contains 20 letters. The use of \"and\" when writing out numbers is in compliance with British usage."
   ]
  },
  {
   "cell_type": "markdown",
   "metadata": {
    "nbgrader": {}
   },
   "source": [
    "First write a `number_to_words(n)` function that takes an integer `n` between 1 and 1000 inclusive and returns a list of words for the number as described above"
   ]
  },
  {
   "cell_type": "code",
   "execution_count": 85,
   "metadata": {
    "collapsed": false,
    "nbgrader": {
     "checksum": "790b69a83b63d5a31b5fac1451dd3b54",
     "solution": true
    }
   },
   "outputs": [],
   "source": [
    "def number_to_words(n):\n",
    "    \"\"\"Given a number n between 1-1000 inclusive return a list of words for the number.\"\"\"\n",
    "    words = {0:'',1:'one',2:'two',3:'three',4:'four',5:'five',6:'six',7:'seven',8:'eight',9:'nine',10:'ten',11:'eleven',12:'twelve',13:'thirteen',14:'fourteen',15:'fifteen',16:'sixteen',17:'seventeen',18:'eighteen',19:'nineteen'}\n",
    "    if n<20:\n",
    "        return words[n]\n",
    "    elif n>=20 and n<30:\n",
    "        return 'twenty'+ words[(n-20)]\n",
    "    elif n>=30 and n<40:\n",
    "        return 'thirty'+ words[(n-30)]\n",
    "    elif n>=40 and n<50:\n",
    "        return 'forty'+ words[(n-40)]\n",
    "    elif n>=50 and n<60:\n",
    "        return 'fifty'+ words[(n-50)]\n",
    "    elif n>=60 and n<70:\n",
    "        return 'sixty'+ words[(n-60)]\n",
    "    elif n>=70 and n<80:\n",
    "        return 'seventy'+ words[(n-70)]\n",
    "    elif n>=80 and n<90:\n",
    "        return 'eighty'+ words[(n-80)]\n",
    "    elif n>=90 and n<100:\n",
    "        return 'ninety'+ words[(n-90)]\n",
    "    elif n%100==0 and n<1000:\n",
    "        return words[n/100] + 'hundred'\n",
    "    elif n>100 and n<1000:\n",
    "        i = n%100\n",
    "        x=0\n",
    "        if i<20:\n",
    "            x=words[i]\n",
    "        elif i>=20 and i<30:\n",
    "            x= 'twenty'+ words[(i-20)]\n",
    "        elif i>=30 and i<40:\n",
    "            x= 'thirty'+ words[(i-30)]\n",
    "        elif i>=40 and i<50:\n",
    "            x= 'forty'+ words[(i-40)]\n",
    "        elif i>=50 and i<60:\n",
    "            x= 'fifty'+ words[(i-50)]\n",
    "        elif i>=60 and i<70:\n",
    "            x= 'sixty'+ words[(i-60)]\n",
    "        elif i>=70 and i<80:\n",
    "            x= 'seventy'+ words[(i-70)]\n",
    "        elif i>=80 and i<90:\n",
    "            x= 'eighty'+ words[(i-80)]\n",
    "        elif i>=90 and i<100:\n",
    "            x= 'ninety'+ words[(i-90)]\n",
    "        return words[(n-n%100)/100] + 'hundred' + 'and' + x\n",
    "    elif n==1000:\n",
    "        return 'onethousand'\n",
    "            "
   ]
  },
  {
   "cell_type": "markdown",
   "metadata": {},
   "source": [
    "I realize this probably isn't the fastest or most concise code, but it works."
   ]
  },
  {
   "cell_type": "markdown",
   "metadata": {
    "nbgrader": {}
   },
   "source": [
    "Now write a set of `assert` tests for your `number_to_words` function that verifies that it is working as expected."
   ]
  },
  {
   "cell_type": "code",
   "execution_count": 86,
   "metadata": {
    "collapsed": false,
    "deletable": false,
    "nbgrader": {
     "checksum": "6cff4e8e53b15273846c3aecaea84a3d",
     "solution": true
    }
   },
   "outputs": [],
   "source": [
    "assert number_to_words(25)=='twentyfive'\n",
    "assert number_to_words(467)=='fourhundredandsixtyseven'\n",
    "assert number_to_words(1000)=='onethousand'\n",
    "assert number_to_words(1)=='one'\n",
    "assert number_to_words(30)=='thirty'"
   ]
  },
  {
   "cell_type": "code",
   "execution_count": 87,
   "metadata": {
    "collapsed": true,
    "deletable": false,
    "nbgrader": {
     "checksum": "2c71c0f9dbe2a57b1ddc17bf544d86ed",
     "grade": true,
     "grade_id": "projecteuler17a",
     "points": 4
    }
   },
   "outputs": [],
   "source": [
    "assert True # use this for grading the number_to_words tests."
   ]
  },
  {
   "cell_type": "markdown",
   "metadata": {
    "nbgrader": {}
   },
   "source": [
    "Now define a `count_letters(n)` that returns the number of letters used to write out the words for all of the the numbers `1` to `n` inclusive."
   ]
  },
  {
   "cell_type": "code",
   "execution_count": 88,
   "metadata": {
    "collapsed": true,
    "nbgrader": {
     "checksum": "be228a805b41eda2b30887a53523f76b",
     "solution": true
    }
   },
   "outputs": [],
   "source": [
    "def count_letters(n):\n",
    "    \"\"\"Count the number of letters used to write out the words for 1-n inclusive.\"\"\"\n",
    "    x=n\n",
    "    count=0\n",
    "    while x>0:\n",
    "        count += len(number_to_words(x))\n",
    "        x -= 1\n",
    "    return count"
   ]
  },
  {
   "cell_type": "markdown",
   "metadata": {},
   "source": [
    "Someone can probably do this in less lines but this method makes the most sense to me."
   ]
  },
  {
   "cell_type": "markdown",
   "metadata": {
    "nbgrader": {}
   },
   "source": [
    "Now write a set of `assert` tests for your `count_letters` function that verifies that it is working as expected."
   ]
  },
  {
   "cell_type": "code",
   "execution_count": 89,
   "metadata": {
    "collapsed": false,
    "deletable": false,
    "nbgrader": {
     "checksum": "6cff4e8e53b15273846c3aecaea84a3d",
     "solution": true
    }
   },
   "outputs": [],
   "source": [
    "assert count_letters(1)==3\n",
    "assert count_letters(3)==11\n",
    "assert count_letters(10)==39"
   ]
  },
  {
   "cell_type": "code",
   "execution_count": 90,
   "metadata": {
    "collapsed": true,
    "deletable": false,
    "nbgrader": {
     "checksum": "3a06c9610681f0174008f2976e310e0a",
     "grade": true,
     "grade_id": "projecteuler17b",
     "points": 4
    }
   },
   "outputs": [],
   "source": [
    "assert True # use this for grading the count_letters tests."
   ]
  },
  {
   "cell_type": "markdown",
   "metadata": {
    "nbgrader": {}
   },
   "source": [
    "Finally used your `count_letters` function to solve the original question."
   ]
  },
  {
   "cell_type": "code",
   "execution_count": 92,
   "metadata": {
    "collapsed": false,
    "deletable": false,
    "nbgrader": {
     "checksum": "6cff4e8e53b15273846c3aecaea84a3d",
     "solution": true
    }
   },
   "outputs": [
    {
     "data": {
      "text/plain": [
       "21124"
      ]
     },
     "execution_count": 92,
     "metadata": {},
     "output_type": "execute_result"
    }
   ],
   "source": [
    "count_letters(1000)"
   ]
  },
  {
   "cell_type": "markdown",
   "metadata": {},
   "source": [
    "Success!"
   ]
  },
  {
   "cell_type": "code",
   "execution_count": null,
   "metadata": {
    "collapsed": true,
    "deletable": false,
    "nbgrader": {
     "checksum": "a136658e13c4f1154caf307a2e852f99",
     "grade": true,
     "grade_id": "projecteuler17c",
     "points": 2
    }
   },
   "outputs": [],
   "source": [
    "assert True # use this for gradig the answer to the original question."
   ]
  }
 ],
 "metadata": {
  "kernelspec": {
   "display_name": "Python 3",
   "language": "python",
   "name": "python3"
  },
  "language_info": {
   "codemirror_mode": {
    "name": "ipython",
    "version": 3
   },
   "file_extension": ".py",
   "mimetype": "text/x-python",
   "name": "python",
   "nbconvert_exporter": "python",
   "pygments_lexer": "ipython3",
   "version": "3.4.0"
  }
 },
 "nbformat": 4,
 "nbformat_minor": 0
}
