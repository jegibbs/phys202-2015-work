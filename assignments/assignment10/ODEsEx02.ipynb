{
 "cells": [
  {
   "cell_type": "markdown",
   "metadata": {
    "nbgrader": {}
   },
   "source": [
    "# Ordinary Differential Equations Exercise 1"
   ]
  },
  {
   "cell_type": "markdown",
   "metadata": {
    "nbgrader": {}
   },
   "source": [
    "## Imports"
   ]
  },
  {
   "cell_type": "code",
   "execution_count": null,
   "metadata": {
    "collapsed": false,
    "nbgrader": {}
   },
   "outputs": [],
   "source": [
    "%matplotlib inline\n",
    "import matplotlib.pyplot as plt\n",
    "import numpy as np\n",
    "from scipy.integrate import odeint\n",
    "from IPython.html.widgets import interact, fixed"
   ]
  },
  {
   "cell_type": "markdown",
   "metadata": {
    "nbgrader": {}
   },
   "source": [
    "## Lorenz system"
   ]
  },
  {
   "cell_type": "markdown",
   "metadata": {
    "nbgrader": {}
   },
   "source": [
    "The [Lorenz system](http://en.wikipedia.org/wiki/Lorenz_system) is one of the earliest studied examples of a system of differential equations that exhibits chaotic behavior, such as bifurcations, attractors, and sensitive dependence on initial conditions. The differential equations read:\n",
    "\n",
    "$$ \\frac{dx}{dt} = \\sigma(y-x) $$\n",
    "$$ \\frac{dy}{dt} = x(\\rho-z) - y $$\n",
    "$$ \\frac{dz}{dt} = xy - \\beta z $$\n",
    "\n",
    "The solution vector is $[x(t),y(t),z(t)]$ and $\\sigma$, $\\rho$, and $\\beta$ are parameters that govern the behavior of the solutions.\n",
    "\n",
    "Write a function `lorenz_derivs` that works with `scipy.integrate.odeint` and computes the derivatives for this system."
   ]
  },
  {
   "cell_type": "code",
   "execution_count": null,
   "metadata": {
    "collapsed": false,
    "nbgrader": {
     "checksum": "65f90dad1f41f58d0e363582b487b8d5",
     "solution": true
    }
   },
   "outputs": [],
   "source": [
    "def lorentz_derivs(yvec, t, sigma, rho, beta):\n",
    "    \"\"\"Compute the the derivatives for the Lorentz system at yvec(t).\"\"\"\n",
    "    # YOUR CODE HERE\n",
    "    raise NotImplementedError()"
   ]
  },
  {
   "cell_type": "code",
   "execution_count": null,
   "metadata": {
    "collapsed": true,
    "deletable": false,
    "nbgrader": {
     "checksum": "d974f9855d26fc874dda6f17003dddf2",
     "grade": true,
     "grade_id": "odesex02a",
     "points": 2
    }
   },
   "outputs": [],
   "source": [
    "assert np.allclose(lorentz_derivs((1,1,1),0, 1.0, 1.0, 2.0),[0.0,-1.0,-1.0])"
   ]
  },
  {
   "cell_type": "markdown",
   "metadata": {
    "nbgrader": {}
   },
   "source": [
    "Write a function `solve_lorenz` that solves the Lorenz system above for a particular initial condition $[x(0),y(0),z(0)]$. Your function should return a tuple of the solution array and time array."
   ]
  },
  {
   "cell_type": "code",
   "execution_count": null,
   "metadata": {
    "collapsed": false,
    "nbgrader": {
     "checksum": "b0d5235b5af2eb5c87d4fd1ce87a61be",
     "solution": true
    }
   },
   "outputs": [],
   "source": [
    "def solve_lorentz(ic, max_time=4.0, sigma=10.0, rho=28.0, beta=8.0/3.0):\n",
    "    \"\"\"Solve the Lorenz system for a single initial condition.\n",
    "    \n",
    "    Parameters\n",
    "    ----------\n",
    "    ic : array, list, tuple\n",
    "        Initial conditions [x,y,z].\n",
    "    max_time: float\n",
    "        The max time to use. Integrate with 250 points per time unit.\n",
    "    sigma, rho, beta: float\n",
    "        Parameters of the differential equation.\n",
    "        \n",
    "    Returns\n",
    "    -------\n",
    "    soln : np.ndarray\n",
    "        The array of the solution. Each row will be the solution vector at that time.\n",
    "    t : np.ndarray\n",
    "        The array of time points used.\n",
    "    \n",
    "    \"\"\"\n",
    "    # YOUR CODE HERE\n",
    "    raise NotImplementedError()"
   ]
  },
  {
   "cell_type": "code",
   "execution_count": null,
   "metadata": {
    "collapsed": true,
    "deletable": false,
    "nbgrader": {
     "checksum": "cdf3968b85b43579c096a9275f274bdc",
     "grade": true,
     "grade_id": "odesex02b",
     "points": 2
    }
   },
   "outputs": [],
   "source": [
    "assert True # leave this to grade solve_lorenz"
   ]
  },
  {
   "cell_type": "code",
   "execution_count": null,
   "metadata": {
    "collapsed": true,
    "nbgrader": {}
   },
   "outputs": [],
   "source": []
  },
  {
   "cell_type": "markdown",
   "metadata": {
    "nbgrader": {}
   },
   "source": [
    "Write a function `plot_lorentz` that:\n",
    "\n",
    "* Solves the Lorenz system for `N` different initial conditions. To generate your initial conditions, draw uniform random samples for `x`, `y` and `z` in the range $[-15,15]$. Call `np.random.seed(1)` a single time at the top of your function to use the same seed each time.\n",
    "* Plot $[x(t),z(t)]$ using a line to show each trajectory.\n",
    "* Color each line using the `hot` colormap from Matplotlib.\n",
    "* Label your plot and choose an appropriate x and y limit.\n",
    "\n",
    "The following cell shows how to generate colors that can be used for the lines:"
   ]
  },
  {
   "cell_type": "code",
   "execution_count": null,
   "metadata": {
    "collapsed": false,
    "nbgrader": {}
   },
   "outputs": [],
   "source": [
    "N = 5\n",
    "colors = plt.cm.hot(np.linspace(0,1,N))\n",
    "for i in range(N):\n",
    "    # To use these colors with plt.plot, pass them as the color argument\n",
    "    print(colors[i])"
   ]
  },
  {
   "cell_type": "code",
   "execution_count": null,
   "metadata": {
    "collapsed": false,
    "nbgrader": {
     "checksum": "011bc152df1f5ceda0dee4111c272010",
     "solution": true
    }
   },
   "outputs": [],
   "source": [
    "def plot_lorentz(N=10, max_time=4.0, sigma=10.0, rho=28.0, beta=8.0/3.0):\n",
    "    \"\"\"Plot [x(t),z(t)] for the Lorenz system.\n",
    "    \n",
    "    Parameters\n",
    "    ----------\n",
    "    N : int\n",
    "        Number of initial conditions and trajectories to plot.\n",
    "    max_time: float\n",
    "        Maximum time to use.\n",
    "    sigma, rho, beta: float\n",
    "        Parameters of the differential equation.\n",
    "    \"\"\"\n",
    "    # YOUR CODE HERE\n",
    "    raise NotImplementedError()"
   ]
  },
  {
   "cell_type": "code",
   "execution_count": null,
   "metadata": {
    "collapsed": false,
    "nbgrader": {}
   },
   "outputs": [],
   "source": [
    "plot_lorentz()"
   ]
  },
  {
   "cell_type": "code",
   "execution_count": null,
   "metadata": {
    "collapsed": true,
    "deletable": false,
    "nbgrader": {
     "checksum": "41d14d750520f01a18fbe651eda43da9",
     "grade": true,
     "grade_id": "odesex02c",
     "points": 4
    }
   },
   "outputs": [],
   "source": [
    "assert True # leave this to grade the plot_lorenz function"
   ]
  },
  {
   "cell_type": "markdown",
   "metadata": {
    "nbgrader": {}
   },
   "source": [
    "Use `interact` to explore your `plot_lorenz` function with:\n",
    "\n",
    "* `max_time` an integer slider over the interval $[1,10]$.\n",
    "* `N` an integer slider over the interval $[1,50]$.\n",
    "* `sigma` a float slider over the interval $[0.0,50.0]$.\n",
    "* `rho` a float slider over the interval $[0.0,50.0]$.\n",
    "* `beta` fixed at a value of $8/3$."
   ]
  },
  {
   "cell_type": "code",
   "execution_count": null,
   "metadata": {
    "collapsed": false,
    "deletable": false,
    "nbgrader": {
     "checksum": "6cff4e8e53b15273846c3aecaea84a3d",
     "solution": true
    }
   },
   "outputs": [],
   "source": [
    "# YOUR CODE HERE\n",
    "raise NotImplementedError()"
   ]
  },
  {
   "cell_type": "markdown",
   "metadata": {
    "nbgrader": {}
   },
   "source": [
    "Describe the different behaviors you observe as you vary the parameters $\\sigma$, $\\rho$ and $\\beta$ of the system:"
   ]
  },
  {
   "cell_type": "markdown",
   "metadata": {
    "collapsed": true,
    "deletable": false,
    "nbgrader": {
     "checksum": "a4b66920b51dfa358700dfd0b922bf8c",
     "grade": true,
     "grade_id": "odesex02d",
     "points": 2,
     "solution": true
    }
   },
   "source": [
    "YOUR ANSWER HERE"
   ]
  }
 ],
 "metadata": {
  "kernelspec": {
   "display_name": "Python 3",
   "language": "python",
   "name": "python3"
  },
  "language_info": {
   "codemirror_mode": {
    "name": "ipython",
    "version": 3
   },
   "file_extension": ".py",
   "mimetype": "text/x-python",
   "name": "python",
   "nbconvert_exporter": "python",
   "pygments_lexer": "ipython3",
   "version": "3.4.0"
  }
 },
 "nbformat": 4,
 "nbformat_minor": 0
}